{
 "cells": [
  {
   "cell_type": "markdown",
   "id": "3142130d-bddf-41c4-b4e1-a875bbcc7b16",
   "metadata": {},
   "source": [
    "# Пример выполнение кода 1С\n",
    "Можно выполнить любой код в синтаксисе 1С с помощью движка OneScript\n",
    "\n",
    "[Документация по синтаксису](https://oscript.io/learn/syntax-basics)"
   ]
  },
  {
   "cell_type": "code",
   "execution_count": null,
   "id": "737f60d6-03d2-40e7-b084-cd711382e682",
   "metadata": {},
   "outputs": [],
   "source": [
    "Сообщить(\"Привет мир!\");\n",
    "Сообщить(3+6);"
   ]
  },
  {
   "cell_type": "markdown",
   "id": "b0886ce2-79e6-4ae8-97e0-166da66d1c97",
   "metadata": {},
   "source": [
    "# Установка дополнительных модулей\n",
    "Данное ядро позволяет устанавливать дополнительные модули для OneScript с помощью пакета opm\n",
    "\n",
    "[Список доступных пакетов](https://github.com/oscript-library)"
   ]
  },
  {
   "cell_type": "code",
   "execution_count": null,
   "id": "a4621ca3-7b02-4ac5-b1d9-4bbe39134da2",
   "metadata": {},
   "outputs": [],
   "source": [
    "opm install yaml"
   ]
  },
  {
   "cell_type": "markdown",
   "id": "8261205d-c39e-4bbd-a82e-83b8d3d6714b",
   "metadata": {},
   "source": [
    "# Использование установленных пакетов"
   ]
  },
  {
   "cell_type": "code",
   "execution_count": null,
   "id": "74120ece-55a5-4ea8-974e-eb71b3d878a8",
   "metadata": {},
   "outputs": [],
   "source": [
    "#Использовать yaml\n",
    "\n",
    "Процессор = Новый ПарсерYAML;\n",
    "\n",
    "// Нижеследующий текст будет преобразован в массив строк\n",
    "СтрокаYaml = \"\n",
    "|--- # Favorite movies\n",
    "| - Casablanca\n",
    "| - North by Northwest\n",
    "| - The Man Who Wasn't There\";\n",
    "\n",
    "ОбъектыМассив = Процессор.ПрочитатьYaml(СтрокаYaml);\n",
    "\n",
    "Для Каждого ЭлементМассива Из ОбъектыМассив Цикл\n",
    "\tСообщить(ЭлементМассива);\n",
    "КонецЦикла;\n"
   ]
  },
  {
   "cell_type": "markdown",
   "id": "81c2f802-56da-4dac-8d2f-f4cb3ff0d9b6",
   "metadata": {},
   "source": [
    "# Пример использования Открытого Пакета Интеграций\n",
    "[Документация на пакет](https://openintegrations.dev/)"
   ]
  },
  {
   "cell_type": "code",
   "execution_count": null,
   "id": "dfeb18e3-b65d-45e6-81d3-662af99f1118",
   "metadata": {},
   "outputs": [],
   "source": [
    "#Использовать oint\n",
    "Токен    = \"Токен\";\n",
    "IDЧата   = \"Чат\";\n",
    "\n",
    "Результат = OPI_Telegram.ОтправитьКонтакт(Токен,IDЧата,\"Leonov\",\"Aleksandr\",\"+79987654321\");\n",
    "\n",
    "Для Каждого Эл Из Результат Цикл\n",
    "    Сообщить(Эл.Ключ + \" - \" + Эл.Значение);\n",
    "КонецЦикла;\n"
   ]
  },
  {
   "cell_type": "code",
   "execution_count": null,
   "id": "8708254b-8417-4407-9c63-17813bf6e195",
   "metadata": {},
   "outputs": [],
   "source": []
  }
 ],
 "metadata": {
  "kernelspec": {
   "display_name": "bsl",
   "language": "bsl",
   "name": "onescript"
  },
  "language_info": {
   "file_extension": ".bsl",
   "mimetype": "text/bsl",
   "name": "bsl"
  }
 },
 "nbformat": 4,
 "nbformat_minor": 5
}
